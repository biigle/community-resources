{
 "cells": [
  {
   "cell_type": "markdown",
   "metadata": {},
   "source": [
    "<a target=\"_blank\" href=\"https://colab.research.google.com/github/biigle/community-resources/blob/master/zeroShot/GroundingDino.ipynb\">\n",
    "  <img src=\"https://colab.research.google.com/assets/colab-badge.svg\" alt=\"Open In Colab\"/>\n",
    "</a>"
   ]
  },
  {
   "cell_type": "markdown",
   "metadata": {},
   "source": [
    "The script runs faster using a GPU with cuda. To enable cuda, go to Runtime -> Change runtime type -> Hardware accelerator -> GPU"
   ]
  },
  {
   "cell_type": "code",
   "execution_count": null,
   "metadata": {},
   "outputs": [],
   "source": [
    "# download biigle.py\n",
    "!wget https://raw.githubusercontent.com/biigle/community-resources/master/biigle/biigle.py"
   ]
  },
  {
   "cell_type": "code",
   "execution_count": 15,
   "metadata": {},
   "outputs": [],
   "source": [
    "import torch\n",
    "from PIL import Image, ImageDraw\n",
    "from transformers import AutoProcessor, AutoModelForZeroShotObjectDetection \n",
    "import biigle\n",
    "import requests\n",
    "from IPython.display import display"
   ]
  },
  {
   "cell_type": "markdown",
   "metadata": {},
   "source": [
    "#### Please enter your individual image_id, biigle token and email here"
   ]
  },
  {
   "cell_type": "code",
   "execution_count": 1,
   "metadata": {},
   "outputs": [],
   "source": [
    "# Please enter the image id of the image you want to use here. (If you are in the annotation view, the image id is the number after https://biigle.de/images/, e.g. https://biigle.de/images/4823299/annotations?r=205&x=1024&y=683 than 4823299 is the image_id)\n",
    "image_id = -1"
   ]
  },
  {
   "cell_type": "code",
   "execution_count": 11,
   "metadata": {},
   "outputs": [],
   "source": [
    "# Please enter the you registered with in Biigle here\n",
    "email = \"\"\n",
    "# Please enter the biigle token (NOT YOUR PASSWORD) here. You can get one here: https://biigle.de/settings/tokens\n",
    "token = \"\""
   ]
  },
  {
   "cell_type": "code",
   "execution_count": null,
   "metadata": {},
   "outputs": [],
   "source": [
    "# check if everything is set\n",
    "if image_id == -1 or email == \"\" or token == \"\":\n",
    "    print(\"Please set the volume_id, email and token in the script.\")\n",
    "    exit(1)"
   ]
  },
  {
   "cell_type": "markdown",
   "metadata": {},
   "source": [
    "#### Check if CUDA is available and set the device to compute on"
   ]
  },
  {
   "cell_type": "code",
   "execution_count": null,
   "metadata": {},
   "outputs": [],
   "source": [
    "# check if cuda is available.\n",
    "device=\"cpu\"\n",
    "if not torch.cuda.is_available():\n",
    "    print(\"Warning: CUDA is not available. The script will be slower than with CUDA. To enable cuda, go to Runtime -> Change runtime type -> Hardware accelerator -> GPU\")\n",
    "else:\n",
    "    print(\"CUDA is available.\")\n",
    "    device=\"cuda\""
   ]
  },
  {
   "cell_type": "markdown",
   "metadata": {},
   "source": [
    "#### Initialize the zero shot object detector from huggingface"
   ]
  },
  {
   "cell_type": "code",
   "execution_count": 5,
   "metadata": {},
   "outputs": [],
   "source": [
    "modelstr = \"IDEA-Research/grounding-dino-base\"\n",
    "processor = AutoProcessor.from_pretrained(modelstr)\n",
    "model = AutoModelForZeroShotObjectDetection.from_pretrained(modelstr).to(device)"
   ]
  },
  {
   "cell_type": "code",
   "execution_count": 7,
   "metadata": {},
   "outputs": [],
   "source": [
    "prompt=input('What are you searching for. Please type in something like \"a fish.\" Please note that the form is very important it must be a <object>. <- The dot is also important. Press enter to continue.')"
   ]
  },
  {
   "cell_type": "markdown",
   "metadata": {},
   "source": [
    "#### Download, open and show the image"
   ]
  },
  {
   "cell_type": "code",
   "execution_count": null,
   "metadata": {},
   "outputs": [],
   "source": [
    "# this is the API endpoint to get an image file\n",
    "image_url = f\"https://biigle.de/api/v1/images/{image_id}/file\"\n",
    "# create a basic authentification object from the email and token\n",
    "basic = requests.auth.HTTPBasicAuth(email, token)\n",
    "# download the image and open it\n",
    "image = Image.open(requests.get(image_url, auth=basic, stream=True).raw)\n",
    "display(image)"
   ]
  },
  {
   "cell_type": "markdown",
   "metadata": {},
   "source": [
    "#### Prepare the input to the model"
   ]
  },
  {
   "cell_type": "code",
   "execution_count": null,
   "metadata": {},
   "outputs": [],
   "source": [
    "inputs = processor(images=image, text=prompt, return_tensors=\"pt\").to(device)"
   ]
  },
  {
   "cell_type": "markdown",
   "metadata": {},
   "source": [
    "#### Apply the model to get the object detections"
   ]
  },
  {
   "cell_type": "code",
   "execution_count": null,
   "metadata": {},
   "outputs": [],
   "source": [
    "with torch.no_grad():\n",
    "    outputs = model(**inputs)\n",
    "# post process the outputs\n",
    "results = processor.post_process_grounded_object_detection(\n",
    "    outputs,\n",
    "    inputs.input_ids,\n",
    "    box_threshold=0.4,\n",
    "    text_threshold=0.3,\n",
    "    target_sizes=[image.size[::-1]]\n",
    ")\n",
    "# save the boxes and their scores in respective lists\n",
    "boxes=[]\n",
    "scores=[]\n",
    "prediction = results[0]\n",
    "for score, box in zip(prediction[\"scores\"].tolist(), prediction[\"boxes\"].tolist()):\n",
    "    boxes.append(box)\n",
    "    scores.append(score)"
   ]
  },
  {
   "cell_type": "markdown",
   "metadata": {},
   "source": [
    "#### Visualize the results"
   ]
  },
  {
   "cell_type": "code",
   "execution_count": null,
   "metadata": {},
   "outputs": [],
   "source": [
    "# initialize the image draw object to draw the boxes onto the image\n",
    "draw = ImageDraw.Draw(image)\n",
    "# iterate over all boxes and scores...\n",
    "for box, score in zip(boxes, scores):\n",
    "    # ...to draw the actual box on the image\n",
    "    draw.rectangle(box, outline=\"blue\", width=3)\n",
    "    # with his respective score\n",
    "    draw.text((box[0], box[3]), f\"{round(score, 3)}\", fill=\"red\")\n",
    "# display the result\n",
    "display(image)"
   ]
  },
  {
   "cell_type": "markdown",
   "metadata": {},
   "source": [
    "#### Reformat the AI annotations to be uploaded to BIIGLE"
   ]
  },
  {
   "cell_type": "code",
   "execution_count": null,
   "metadata": {},
   "outputs": [],
   "source": [
    "# Use the Grounding DINO object ID for now. You can change that to any other label id you want to use (The label tree must be available in that project).\n",
    "label_id = 392500\n",
    "\n",
    "# initialize an empty array to hold the biigle style annotations\n",
    "annotationlist=[]\n",
    "#initialize the biigle api helper\n",
    "api = biigle.Api(email=email, token=token)\n",
    "for box, score in zip(boxes, scores):\n",
    "    # Biigle uses rectangle annotations providing all 4 corners of the rectangle. We need to convert the boxes to this format. Currently they are in the format [x1, y1, x2, y2]\n",
    "    biigle_box=[box[0],box[1],box[2],box[1],box[2],box[3],box[0],box[3]]\n",
    "    # an annotation for the API needs to provide the following information in a dictionary:\n",
    "        # image_id: the id of the image the annotation is on\n",
    "        # shape_id: the id of the shape (5 is a rectangle; To get all available shapes, see https://biigle.de/api/v1/shapes)\n",
    "        # points: the points of the shape in the format [x1, y1, x2, y2, x3, y3, x4, y4]\n",
    "        # label_id: the id of the label the annotation should have\n",
    "        # confidence: the confidence of the model in the prediction (currently saved but not shown in BIIGLE)\n",
    "    annotationlist.append({\"image_id\":image_id,\"shape_id\":5,\"points\":biigle_box,\"label_id\":label_id,\"confidence\":score})"
   ]
  },
  {
   "cell_type": "markdown",
   "metadata": {},
   "source": [
    "#### Upload the data to Biigle"
   ]
  },
  {
   "cell_type": "code",
   "execution_count": null,
   "metadata": {},
   "outputs": [],
   "source": [
    "# initialize the Biigle api\n",
    "api = biigle.Api(email=email, token=token)\n",
    "# At most 100 annotations can be uploaded in one request so chunk them if there is more\n",
    "for i in range(0,len(annotationlist),100):\n",
    "    api.post('image-annotations',json=annotationlist[i:i+100])"
   ]
  }
 ],
 "metadata": {
  "kernelspec": {
   "display_name": "Python 3",
   "language": "python",
   "name": "python3"
  },
  "language_info": {
   "codemirror_mode": {
    "name": "ipython",
    "version": 3
   },
   "file_extension": ".py",
   "mimetype": "text/x-python",
   "name": "python",
   "nbconvert_exporter": "python",
   "pygments_lexer": "ipython3",
   "version": "3.10.12"
  }
 },
 "nbformat": 4,
 "nbformat_minor": 2
}
